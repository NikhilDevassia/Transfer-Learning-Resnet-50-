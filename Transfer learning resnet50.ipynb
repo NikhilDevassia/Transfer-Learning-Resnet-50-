{
 "cells": [
  {
   "cell_type": "code",
   "execution_count": 1,
   "id": "8a2da37c-1a4a-4bb6-8d78-718ad2b736a2",
   "metadata": {},
   "outputs": [],
   "source": [
    "import pandas as pd"
   ]
  },
  {
   "cell_type": "code",
   "execution_count": null,
   "id": "23fb4d82-8cec-4f01-b594-8d51fd90a97a",
   "metadata": {},
   "outputs": [],
   "source": [
    "print('hellow')"
   ]
  }
 ],
 "metadata": {
  "kernelspec": {
   "display_name": "Python 3 (ipykernel)",
   "language": "python",
   "name": "python3"
  },
  "language_info": {
   "codemirror_mode": {
    "name": "ipython",
    "version": 3
   },
   "file_extension": ".py",
   "mimetype": "text/x-python",
   "name": "python",
   "nbconvert_exporter": "python",
   "pygments_lexer": "ipython3",
   "version": "3.9.13"
  }
 },
 "nbformat": 4,
 "nbformat_minor": 5
}
